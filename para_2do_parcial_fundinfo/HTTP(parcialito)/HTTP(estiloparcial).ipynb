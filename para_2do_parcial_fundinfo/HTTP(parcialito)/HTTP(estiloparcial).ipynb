{
 "cells": [
  {
   "cell_type": "markdown",
   "metadata": {},
   "source": [
    "TEORIAAAA: \n",
    "Preguntas teoricas HTTP:\n",
    "\n",
    "Protocolo HTTP\n",
    "Verbos que se corresponden con las url y con ciertas operaciones\n",
    "\n",
    "Aplicacion y pagina: diferencia es q :\n",
    "#aplicacion tiene un servidor. Un sitio es un conjunto de paginas\n",
    "Servidor responde a cliente con ciertos datos que tenga \n",
    "#Pagina: pagina es un HTTP \n",
    "Tiene verbos asociados \n",
    "\n",
    "#post(agrega elementos a la base de datos o cambiar), \n",
    "Se aplica a url a  En un recurso especifico ej prendas/1\n",
    "\n",
    "#delete(elimina un elemento de la base de datos),\n",
    "Se aplica a url a  /prendas/1\n",
    "\n",
    "#get(consulta ) \n",
    "Se aplica a url a  Puedo hacer en prendas o prendas/1 \n",
    "\n",
    "(aux: tmbn esta put(cambiar)pull pero no lo vimos)"
   ]
  },
  {
   "cell_type": "markdown",
   "metadata": {},
   "source": [
    "TEORIA:\n",
    "\n",
    "#tutorial HTTP :\n",
    "#import requests #biblioteca que necesitamos para hacer pedidos\n",
    "#Aplicacion Rest: Se correlaciona las url con los verbos http->verbo http es get:get filtro la tabla y me trajo ese recurso en particular\n",
    "#“get” es pedir un recuso() #ingreso URL de dato->que puede ser para que devuelva una prenda en especifico (un diccio)o opara que devuelva todas las prendas(lista de diccio)\n",
    "#\"json()\" es el formato en el cual los servidores devuelven la informacion al cliente->json() es el q trae la informacion en si \n",
    "#lo 1ro que me deuveulve es el \"Status code\" habla de como funciono la condición y el estado del pedido:\n",
    "#si decuelve -> <Response[200]> #siginifica que me funciona\n",
    "#si decuelve -> <Response[404]> #siginifica que me da error (puede ser xq no exista )\n",
    "#aux: si devuelve <Response[202] es accepted\n",
    "#Luego devuelve la informacion en si en formato json()\n",
    "\n",
    "#headers: me da toda la metadata del pedido, es decir la fecha, tipo de informacion q trae\n",
    "#print(pedido.status_code) # pide el solo el nro del status_code q devolvia entre <Response[nro]>\n",
    "\n",
    "#print(len(pedido.json()))#Para saber cantidad de prendas o recursos que tiene\n",
    "\n",
    "\n",
    "\n",
    "#lo que pongo ahora es un URI:\n",
    "import requests\n",
    "r = requests.get('protocolo://dominio:puerto/ruta#fragmento?parametro1=valor1&parametro2=valor2')\n",
    "print(r.json())\n",
    "\n",
    "#lo que pongo ahora es un URI:\n",
    "import requests\n",
    "r = requests.get('cerebro://recuerdos:3403/recientes#hoy?tema=http')\n",
    "print(r.json())"
   ]
  },
  {
   "cell_type": "markdown",
   "metadata": {},
   "source": [
    "la pagina original es-> https://macowins-server.herokuapp.com "
   ]
  },
  {
   "cell_type": "code",
   "execution_count": 4,
   "metadata": {},
   "outputs": [
    {
     "name": "stdout",
     "output_type": "stream",
     "text": [
      "<Response [200]>\n",
      "[{'id': 1, 'tipo': 'pantalon', 'talle': 35}, {'id': 2, 'tipo': 'pantalon', 'talle': 36}, {'id': 3, 'tipo': 'pantalon', 'talle': 37}, {'id': 4, 'tipo': 'pantalon', 'talle': 38}, {'id': 5, 'tipo': 'pantalon', 'talle': 39}, {'id': 6, 'tipo': 'pantalon', 'talle': 40}, {'id': 7, 'tipo': 'pantalon', 'talle': 41}, {'id': 8, 'tipo': 'pantalon', 'talle': 42}, {'id': 9, 'tipo': 'pantalon', 'talle': 43}, {'id': 10, 'tipo': 'pantalon', 'talle': 44}, {'id': 11, 'tipo': 'remera', 'talle': 'XS'}, {'id': 12, 'tipo': 'remera', 'talle': 'S'}, {'id': 13, 'tipo': 'remera', 'talle': 'M'}, {'id': 14, 'tipo': 'remera', 'talle': 'L'}, {'id': 15, 'tipo': 'remera', 'talle': 'XL'}, {'id': 16, 'tipo': 'saco', 'talle': 'XS'}, {'id': 17, 'tipo': 'saco', 'talle': 'S'}, {'id': 18, 'tipo': 'saco', 'talle': 'M', 'enStock': False}, {'id': 19, 'tipo': 'saco', 'talle': 'L'}, {'id': 20, 'tipo': 'saco', 'talle': 'XL'}, {'tipo': 'remera', 'talle': 'S', 'id': 21}]\n",
      "{'Server': 'Cowboy', 'Connection': 'keep-alive', 'X-Powered-By': 'Express', 'Expires': '-1', 'Content-Type': 'application/json; charset=utf-8', 'Etag': 'W/\"529-A6nMxcP5dejES42Gpvp1911CFuc\"', 'Vary': 'Accept-Encoding', 'Content-Encoding': 'gzip', 'Date': 'Sun, 03 Jul 2022 16:34:44 GMT', 'Transfer-Encoding': 'chunked', 'Via': '1.1 vegur'}\n",
      "200\n",
      "21\n"
     ]
    }
   ],
   "source": [
    "import requests #biblioteca que necesitamos para hacer pedidos\n",
    "pedido = requests.get('https://macowins-server.herokuapp.com/prendas')#“get” es pedir un recuso() #ingreso URL de dato->#en este caso me devuelve una lista de diccionarios con todas las prendas\n",
    "print(pedido) #me devuelve el <Response[nro]>\n",
    "print(pedido.json()) #\"json()\" es el formato en el cual los servidores devuelven la informacion al cliente ya sea diccio o lista de diccio\n",
    "print(pedido.headers)#headers: me da toda la metadata del pedido, es decir la fecha, tipo de informacion q trae\n",
    "print(pedido.status_code) # pide el solo el nro del status_code q devolvia entre <Response[nro]>\n",
    "print(len(pedido.json()))#Para saber cantidad de prendas o recursos que tiene\n"
   ]
  },
  {
   "cell_type": "code",
   "execution_count": 5,
   "metadata": {},
   "outputs": [
    {
     "name": "stdout",
     "output_type": "stream",
     "text": [
      "{'id': 1, 'tipo': 'pantalon', 'talle': 35}\n"
     ]
    }
   ],
   "source": [
    "pedido_especifico = requests.get('https://macowins-server.herokuapp.com/prendas/1') #en este caso me devuelve un diccio con una prenda en especifico ->porq al final tiene /1 (\"/nro\" al final da a entender esto)aux:si pongo /nro y me da error 404, significa que ese nro de prenda no existe\n",
    "print(pedido_especifico.json())"
   ]
  },
  {
   "cell_type": "code",
   "execution_count": 7,
   "metadata": {},
   "outputs": [
    {
     "name": "stdout",
     "output_type": "stream",
     "text": [
      "<Response [404]>\n"
     ]
    }
   ],
   "source": [
    "pedido_inexistente=requests.get(\"https://maxowins-server.herokuapp.com/prendas/400\")\n",
    "print(pedido_inexistente) \n",
    "\n",
    "#me devuelve:\n",
    "#<Response[404]> #siginifica que me da error ->ni siquiera pongo que me devuelva con json(), dado que me devolvera un error, esto se debe a que no exite prenda 400, como vimos antes en el len hay solo 21 prendas"
   ]
  },
  {
   "cell_type": "code",
   "execution_count": 9,
   "metadata": {},
   "outputs": [
    {
     "name": "stdout",
     "output_type": "stream",
     "text": [
      "[{'id': 1, 'tipo': 'pantalon', 'talle': 35}, {'id': 2, 'tipo': 'pantalon', 'talle': 36}, {'id': 3, 'tipo': 'pantalon', 'talle': 37}, {'id': 4, 'tipo': 'pantalon', 'talle': 38}, {'id': 5, 'tipo': 'pantalon', 'talle': 39}, {'id': 6, 'tipo': 'pantalon', 'talle': 40}, {'id': 7, 'tipo': 'pantalon', 'talle': 41}, {'id': 8, 'tipo': 'pantalon', 'talle': 42}, {'id': 9, 'tipo': 'pantalon', 'talle': 43}, {'id': 10, 'tipo': 'pantalon', 'talle': 44}]\n"
     ]
    }
   ],
   "source": [
    "pedido_con_pantalon = requests.get('https://macowins-server.herokuapp.com/prendas?tipo=pantalon')#“get” es pedir un recuso() #ingreso URL de dato->en este caso me devuelve una lista de diccionarios con todas las prendas que el que dentro dentro del diccio en la clave 'tipo' es 'pantalon'->esto se da porq agrego luego de prendas \"?tipo=pantalon\"\n",
    "print(pedido_con_pantalon.json())"
   ]
  },
  {
   "cell_type": "code",
   "execution_count": 12,
   "metadata": {},
   "outputs": [
    {
     "name": "stdout",
     "output_type": "stream",
     "text": [
      "[{'id': 6, 'tipo': 'pantalon', 'talle': 40}]\n"
     ]
    }
   ],
   "source": [
    "pedido_pant_40 = requests.get('https://macowins-server.herokuapp.com/prendas?talle=40&tipo=pantalon')#“get” es pedir un recuso() #ingreso URL de dato->en este caso me devuelve una lista de diccionarios con todas las prendas que el que dentro dentro del diccio en la clave 'tipo' es 'pantalon' y ademas es de \"talle\"=40->esto se da porq agrego luego de prendas \"?talle=40&tipo=pantalon\"\n",
    "print(pedido_pant_40.json())"
   ]
  },
  {
   "cell_type": "code",
   "execution_count": 17,
   "metadata": {},
   "outputs": [
    {
     "name": "stdout",
     "output_type": "stream",
     "text": [
      "[{'id': 21, 'producto': {'id': 9, 'tipo': 'pantalon', 'talle': 43}, 'fecha': '1972-03-08T03:50:24.000Z'}, {'id': 22, 'producto': {'id': 19, 'tipo': 'saco', 'talle': 'L'}, 'fecha': '1972-04-15T02:52:48.000Z'}, {'id': 23, 'producto': {'id': 10, 'tipo': 'pantalon', 'talle': 44}, 'fecha': '1972-05-23T01:55:12.000Z'}, {'id': 24, 'producto': {'id': 13, 'tipo': 'remera', 'talle': 'M'}, 'fecha': '1972-06-30T00:57:36.000Z'}, {'id': 25, 'producto': {'id': 9, 'tipo': 'pantalon', 'talle': 43}, 'fecha': '1972-08-07T00:00:00.000Z'}, {'id': 26, 'producto': {'id': 19, 'tipo': 'saco', 'talle': 'L'}, 'fecha': '1972-09-13T23:02:24.000Z'}, {'id': 27, 'producto': {'id': 3, 'tipo': 'pantalon', 'talle': 37}, 'fecha': '1972-10-21T22:04:48.000Z'}, {'id': 28, 'producto': {'id': 6, 'tipo': 'pantalon', 'talle': 40}, 'fecha': '1972-11-28T21:07:12.000Z'}, {'id': 29, 'producto': {'id': 8, 'tipo': 'pantalon', 'talle': 42}, 'fecha': '1973-01-05T20:09:36.000Z'}, {'id': 30, 'producto': {'id': 6, 'tipo': 'pantalon', 'talle': 40}, 'fecha': '1973-02-12T19:12:00.000Z'}]\n"
     ]
    }
   ],
   "source": [
    "pag3_ventas = requests.get('https://macowins-server.herokuapp.com/ventas/?_page=3')#solo la pagina 3 de la parte de ventas (en vez de prendas busca ventas aca)\n",
    "print(pag3_ventas.json())"
   ]
  },
  {
   "cell_type": "code",
   "execution_count": 57,
   "metadata": {},
   "outputs": [
    {
     "name": "stdout",
     "output_type": "stream",
     "text": [
      "[{'id': 1, 'tipo': 'pantalon', 'talle': 35}, {'id': 2, 'tipo': 'pantalon', 'talle': 36}, {'id': 3, 'tipo': 'pantalon', 'talle': 37}, {'id': 4, 'tipo': 'pantalon', 'talle': 38}, {'id': 5, 'tipo': 'pantalon', 'talle': 39}, {'id': 6, 'tipo': 'pantalon', 'talle': 40}, {'id': 7, 'tipo': 'pantalon', 'talle': 41}, {'id': 8, 'tipo': 'pantalon', 'talle': 42}, {'id': 9, 'tipo': 'pantalon', 'talle': 43}, {'id': 10, 'tipo': 'pantalon', 'talle': 44}, {'id': 11, 'tipo': 'remera', 'talle': 'XS'}, {'id': 12, 'tipo': 'remera', 'talle': 'S'}, {'id': 13, 'tipo': 'remera', 'talle': 'M'}, {'id': 14, 'tipo': 'remera', 'talle': 'L'}, {'id': 15, 'tipo': 'remera', 'talle': 'XL'}, {'id': 16, 'tipo': 'saco', 'talle': 'XS'}, {'id': 17, 'tipo': 'saco', 'talle': 'S'}, {'id': 18, 'tipo': 'saco', 'talle': 'M', 'enStock': False}, {'id': 19, 'tipo': 'saco', 'talle': 'L'}, {'id': 20, 'tipo': 'saco', 'talle': 'XL'}, {'tipo': 'remera', 'talle': 'S', 'id': 21}, {'id': '23'}, {'id': '24'}, {'id': '27'}, {'id': '28'}, {'id': '30'}, {'id': '32'}]\n"
     ]
    }
   ],
   "source": [
    "pedido_atr=requests.get(\"https://macowins-server.herokuapp.com/prendas\")\n",
    "print(pedido_atr.json())"
   ]
  },
  {
   "cell_type": "code",
   "execution_count": 58,
   "metadata": {},
   "outputs": [
    {
     "name": "stdout",
     "output_type": "stream",
     "text": [
      "{'id': '35'}\n"
     ]
    }
   ],
   "source": [
    "data = {'id': 35}\n",
    "agrego= requests.post('https://macowins-server.herokuapp.com/prendas/', data=data) #crea una prenda con el id 35 y la agrega al pedido\n",
    "print(agrego.json())"
   ]
  },
  {
   "cell_type": "code",
   "execution_count": 59,
   "metadata": {},
   "outputs": [
    {
     "name": "stdout",
     "output_type": "stream",
     "text": [
      "[{'id': 1, 'tipo': 'pantalon', 'talle': 35}, {'id': 2, 'tipo': 'pantalon', 'talle': 36}, {'id': 3, 'tipo': 'pantalon', 'talle': 37}, {'id': 4, 'tipo': 'pantalon', 'talle': 38}, {'id': 5, 'tipo': 'pantalon', 'talle': 39}, {'id': 6, 'tipo': 'pantalon', 'talle': 40}, {'id': 7, 'tipo': 'pantalon', 'talle': 41}, {'id': 8, 'tipo': 'pantalon', 'talle': 42}, {'id': 9, 'tipo': 'pantalon', 'talle': 43}, {'id': 10, 'tipo': 'pantalon', 'talle': 44}, {'id': 11, 'tipo': 'remera', 'talle': 'XS'}, {'id': 12, 'tipo': 'remera', 'talle': 'S'}, {'id': 13, 'tipo': 'remera', 'talle': 'M'}, {'id': 14, 'tipo': 'remera', 'talle': 'L'}, {'id': 15, 'tipo': 'remera', 'talle': 'XL'}, {'id': 16, 'tipo': 'saco', 'talle': 'XS'}, {'id': 17, 'tipo': 'saco', 'talle': 'S'}, {'id': 18, 'tipo': 'saco', 'talle': 'M', 'enStock': False}, {'id': 19, 'tipo': 'saco', 'talle': 'L'}, {'id': 20, 'tipo': 'saco', 'talle': 'XL'}, {'tipo': 'remera', 'talle': 'S', 'id': 21}, {'id': '23'}, {'id': '24'}, {'id': '27'}, {'id': '28'}, {'id': '30'}, {'id': '32'}, {'id': '35'}]\n"
     ]
    }
   ],
   "source": [
    "pedido_atr=requests.get(\"https://macowins-server.herokuapp.com/prendas\")     #ahora cuando lo vuelvo a abrir veo el pedido anterior y ademas sumado el nuevo id 35\n",
    "print(pedido_atr.json())"
   ]
  },
  {
   "cell_type": "code",
   "execution_count": 60,
   "metadata": {},
   "outputs": [
    {
     "name": "stdout",
     "output_type": "stream",
     "text": [
      "{'tipo': 'chomba', 'talle': 'XS', 'id': '6n_hvkf'}\n"
     ]
    }
   ],
   "source": [
    "data =  { \"tipo\": \"chomba\", \"talle\": \"XS\" }\n",
    "agrego2= requests.post('https://macowins-server.herokuapp.com/prendas', data=data) #agrega al pedido con diccios con id que no nos sirve\n",
    "print(agrego2.json())"
   ]
  },
  {
   "cell_type": "code",
   "execution_count": 61,
   "metadata": {},
   "outputs": [
    {
     "name": "stdout",
     "output_type": "stream",
     "text": [
      "[{'id': 1, 'tipo': 'pantalon', 'talle': 35}, {'id': 2, 'tipo': 'pantalon', 'talle': 36}, {'id': 3, 'tipo': 'pantalon', 'talle': 37}, {'id': 4, 'tipo': 'pantalon', 'talle': 38}, {'id': 5, 'tipo': 'pantalon', 'talle': 39}, {'id': 6, 'tipo': 'pantalon', 'talle': 40}, {'id': 7, 'tipo': 'pantalon', 'talle': 41}, {'id': 8, 'tipo': 'pantalon', 'talle': 42}, {'id': 9, 'tipo': 'pantalon', 'talle': 43}, {'id': 10, 'tipo': 'pantalon', 'talle': 44}, {'id': 11, 'tipo': 'remera', 'talle': 'XS'}, {'id': 12, 'tipo': 'remera', 'talle': 'S'}, {'id': 13, 'tipo': 'remera', 'talle': 'M'}, {'id': 14, 'tipo': 'remera', 'talle': 'L'}, {'id': 15, 'tipo': 'remera', 'talle': 'XL'}, {'id': 16, 'tipo': 'saco', 'talle': 'XS'}, {'id': 17, 'tipo': 'saco', 'talle': 'S'}, {'id': 18, 'tipo': 'saco', 'talle': 'M', 'enStock': False}, {'id': 19, 'tipo': 'saco', 'talle': 'L'}, {'id': 20, 'tipo': 'saco', 'talle': 'XL'}, {'tipo': 'remera', 'talle': 'S', 'id': 21}, {'id': '23'}, {'id': '24'}, {'id': '27'}, {'id': '28'}, {'id': '30'}, {'id': '32'}, {'id': '35'}, {'tipo': 'chomba', 'talle': 'XS', 'id': '6n_hvkf'}]\n"
     ]
    }
   ],
   "source": [
    "pedido_atr2=requests.get(\"https://macowins-server.herokuapp.com/prendas\")     #ahora cuando lo vuelvo a abrir veo el pedido anterior y ademas sumado el nuevo id 35\n",
    "print(pedido_atr2.json())"
   ]
  },
  {
   "cell_type": "code",
   "execution_count": 68,
   "metadata": {},
   "outputs": [],
   "source": [
    "saco_algo2=requests.delete(\"https://macowins-server.herokuapp.com/prendas/30\")     #elimino el id 30"
   ]
  },
  {
   "cell_type": "code",
   "execution_count": 69,
   "metadata": {},
   "outputs": [
    {
     "name": "stdout",
     "output_type": "stream",
     "text": [
      "[{'id': 1, 'tipo': 'pantalon', 'talle': 35}, {'id': 2, 'tipo': 'pantalon', 'talle': 36}, {'id': 3, 'tipo': 'pantalon', 'talle': 37}, {'id': 4, 'tipo': 'pantalon', 'talle': 38}, {'id': 5, 'tipo': 'pantalon', 'talle': 39}, {'id': 6, 'tipo': 'pantalon', 'talle': 40}, {'id': 7, 'tipo': 'pantalon', 'talle': 41}, {'id': 8, 'tipo': 'pantalon', 'talle': 42}, {'id': 9, 'tipo': 'pantalon', 'talle': 43}, {'id': 10, 'tipo': 'pantalon', 'talle': 44}, {'id': 11, 'tipo': 'remera', 'talle': 'XS'}, {'id': 12, 'tipo': 'remera', 'talle': 'S'}, {'id': 13, 'tipo': 'remera', 'talle': 'M'}, {'id': 14, 'tipo': 'remera', 'talle': 'L'}, {'id': 15, 'tipo': 'remera', 'talle': 'XL'}, {'id': 16, 'tipo': 'saco', 'talle': 'XS'}, {'id': 17, 'tipo': 'saco', 'talle': 'S'}, {'id': 18, 'tipo': 'saco', 'talle': 'M', 'enStock': False}, {'id': 19, 'tipo': 'saco', 'talle': 'L'}, {'id': 20, 'tipo': 'saco', 'talle': 'XL'}, {'tipo': 'remera', 'talle': 'S', 'id': 21}, {'id': '23'}, {'id': '24'}, {'id': '27'}, {'id': '28'}, {'id': '32'}, {'tipo': 'chomba', 'talle': 'XS', 'id': '6n_hvkf'}, {'tipo': 'chomba', 'talle': 'XS', 'id': 'BftdsZ1'}, {'tipo': 'chomba', 'talle': 'XS', 'id': 'e9RPAE6'}]\n"
     ]
    }
   ],
   "source": [
    "pedido_atr4=requests.get(\"https://macowins-server.herokuapp.com/prendas\")     #ahora cuando lo vuelvo a abrir veo el pedido anterior sin el id 30\n",
    "print(pedido_atr4.json())"
   ]
  },
  {
   "cell_type": "code",
   "execution_count": 70,
   "metadata": {},
   "outputs": [],
   "source": [
    "saco_algo3=requests.delete(\"https://macowins-server.herokuapp.com/prendas/13\")     #elimino el id 13 ->y en consecuencia se elimina todo ese diccio donde se encuentra el id:13"
   ]
  },
  {
   "cell_type": "code",
   "execution_count": 71,
   "metadata": {},
   "outputs": [
    {
     "name": "stdout",
     "output_type": "stream",
     "text": [
      "[{'id': 1, 'tipo': 'pantalon', 'talle': 35}, {'id': 2, 'tipo': 'pantalon', 'talle': 36}, {'id': 3, 'tipo': 'pantalon', 'talle': 37}, {'id': 4, 'tipo': 'pantalon', 'talle': 38}, {'id': 5, 'tipo': 'pantalon', 'talle': 39}, {'id': 6, 'tipo': 'pantalon', 'talle': 40}, {'id': 7, 'tipo': 'pantalon', 'talle': 41}, {'id': 8, 'tipo': 'pantalon', 'talle': 42}, {'id': 9, 'tipo': 'pantalon', 'talle': 43}, {'id': 10, 'tipo': 'pantalon', 'talle': 44}, {'id': 11, 'tipo': 'remera', 'talle': 'XS'}, {'id': 12, 'tipo': 'remera', 'talle': 'S'}, {'id': 14, 'tipo': 'remera', 'talle': 'L'}, {'id': 15, 'tipo': 'remera', 'talle': 'XL'}, {'id': 16, 'tipo': 'saco', 'talle': 'XS'}, {'id': 17, 'tipo': 'saco', 'talle': 'S'}, {'id': 18, 'tipo': 'saco', 'talle': 'M', 'enStock': False}, {'id': 19, 'tipo': 'saco', 'talle': 'L'}, {'id': 20, 'tipo': 'saco', 'talle': 'XL'}, {'tipo': 'remera', 'talle': 'S', 'id': 21}, {'id': '23'}, {'id': '24'}, {'id': '27'}, {'id': '28'}, {'id': '32'}, {'tipo': 'chomba', 'talle': 'XS', 'id': '6n_hvkf'}, {'tipo': 'chomba', 'talle': 'XS', 'id': 'BftdsZ1'}, {'tipo': 'chomba', 'talle': 'XS', 'id': 'e9RPAE6'}]\n"
     ]
    }
   ],
   "source": [
    "pedido_atr5=requests.get(\"https://macowins-server.herokuapp.com/prendas\")     #ahora cuando lo vuelvo a abrir veo el pedido anterior sin el diccio que contenia al id: 13\n",
    "print(pedido_atr5.json())"
   ]
  },
  {
   "cell_type": "markdown",
   "metadata": {},
   "source": [
    "#tutorial HTTP :\n",
    "#import requests #biblioteca que necesitamos para hacer pedidos\n",
    "#Aplicacion Rest: Se correlaciona las url con los verbos http->verbo http es get:get filtro la tabla y me trajo ese recurso en particular\n",
    "#“get” es pedir un recuso() #ingreso URL de dato->que puede ser para que devuelva una prenda en especifico (un diccio)o opara que devuelva todas las prendas(lista de diccio)\n",
    "#\"json()\" es el formato en el cual los servidores devuelven la informacion al cliente->json() es el q trae la informacion en si \n",
    "#lo 1ro que me deuveulve es el \"Status code\" habla de como funciono la condición y el estado del pedido:\n",
    "#si decuelve -> <Response[200]> #siginifica que me funciona\n",
    "#si decuelve -> <Response[404]> #siginifica que me da error (puede ser xq no exista )\n",
    "#aux: si devuelve <Response[202] es accepted\n",
    "#Luego devuelve la informacion en si en formato json()\n",
    "\n",
    "#headers: me da toda la metadata del pedido, es decir la fecha, tipo de informacion q trae\n",
    "#print(pedido.status_code) # pide el solo el nro del status_code q devolvia entre <Response[nro]>\n",
    "\n",
    "#print(len(pedido.json()))#Para saber cantidad de prendas o recursos que tiene\n",
    "\n",
    "#si URL es:\n",
    "#'https://macowins-server.herokuapp.com/prendas/1' #en este caso me devuelve un diccio con una prenda en especifico ->porq al final tiene /1 (\"/nro\" al final da a entender esto)aux:si pongo /nro y me da error 404, significa que ese nro de prenda no existe\n",
    "#'https://macowins-server.herokuapp.com/prendas' #en este caso me devuelve una lista de diccionarios con todas las prendas\n",
    "\n",
    "#estructura:\n",
    "\"\"\"\n",
    "import requests #biblioteca que necesitamos para hacer pedidos\n",
    "pedido = requests.get('https://macowins-server.herokuapp.com/prendas/1')#“get” es pedir un recuso() #ingreso URL de dato->que en este caso pide una prenda en especifico\n",
    "print(pedido) #me devuelve el <Response[nro]>\n",
    "print(pedido.json()) #\"json()\" es el formato en el cual los servidores devuelven la informacion al cliente ya sea diccio o lista de diccio\n",
    "print(pedido.headers)#headers: me da toda la metadata del pedido, es decir la fecha, tipo de informacion q trae\n",
    "print(pedido.status_code) # pide el solo el nro del status_code q devolvia entre <Response[nro]>\n",
    "\n",
    "import requests #biblioteca que necesitamos para hacer pedidos\n",
    "pedido = requests.get('https://macowins-server.herokuapp.com/prendas/1')#“get” es pedir un recuso() #ingreso URL de dato->que en este caso pide una prenda en especifico\n",
    "print(pedido)\n",
    "print(pedido.json()) #\"json()\" es el formato en el cual los servidores devuelven la informacion al cliente\n",
    "\n",
    "#Se correlaciona las url con los verbos http->verbo http es get:get filtro la tabla y me trajo ese recurso en particular\n",
    "\n",
    "me devuelve:\n",
    "<Response[200]> #siginifica que me funciona\n",
    "{“id”:1,”tipo”: “pantalón”, “talle”:35}  #devuelve esto xq en la URL yo le pedi la prenda 1 de ropa\n",
    "\n",
    "\n",
    "import requests #biblioteca que necesitamos para hacer pedidos\n",
    "pedido = requests.get('https://macowins-server.herokuapp.com/prendas')#“get” es pedir un recuso() #ingreso URL de dato->en este caso me devuelve una lista de diccionarios con todas las prendas\n",
    "print(pedido)\n",
    "print(pedido.json())\n",
    "\n",
    "\n",
    "me devuelve:\n",
    "<Response[200]> #siginifica que me funciona\n",
    "[{“id”:1,”tipo”: “pantalón”, “talle”:35}, {'id': 2, 'tipo': 'pantalon', 'talle': 36},...., {'id': 18, 'tipo': 'saco', 'talle': 'M', 'enStock': False}, ...]#devuelve esto xq en la URL yo le pedi es todas las prendas->me devuelve una lista de diccionarios con todas las prendas\n",
    "#aux:que diga 'enStock': False ->es normal, significa que no hay en stock de esa prenda\n",
    "\n",
    "import requests #biblioteca que necesitamos para hacer pedidos\n",
    "pedido = requests.get('https://macowins-server.herokuapp.com/prendas/20')#“get” es pedir un recuso() #ingreso URL de dato->que en este caso pide una prenda en especifico\n",
    "print(pedido)\n",
    "print(pedido.json())\n",
    "\n",
    "\n",
    "me devuelve:\n",
    "<Response[200]> #siginifica que me funciona\n",
    "{'id': 20, 'tipo': 'saco', 'talle': 'XL'}  #devuelve esto xq en la URL yo le pedi la prenda 20 de ropa\n",
    "\n",
    "\n",
    "import requests #biblioteca que necesitamos para hacer pedidos\n",
    "pedido = requests.get('https://macowins-server.herokuapp.com/prendas')\n",
    "print(len(pedido.json()))#Para saber cantidad de prendas o recursos que tiene\n",
    "\n",
    "#devuelve cantidad de prendas nro de cantidad de prendas que tiene:\n",
    "20\n",
    "\n",
    "import requests\n",
    "pedido =requests.get(\"https://maxowins-server.herokuapp.com/prendas/400\")\n",
    "print(pedido)\n",
    "\n",
    "me devuelve:\n",
    "<Response[404]> #siginifica que me da error\n",
    "\n",
    "\n",
    "#headers: me da toda la metadata del pedido, es decir la fecha, tipo de informacion q trae\n",
    "\n",
    "\n",
    "import requests\n",
    "pedido =requests.get(\"https://maxowins-server.herokuapp.com/prendas/1\")\n",
    "print(pedido.headers)#headers: me da toda la metadata del pedido, es decir la fecha, tipo de informacion q trae\n",
    "\n",
    "me devuelve:\n",
    "diccio con la metadata del pedido(fecha, tipo de info, etc)\n",
    "\n",
    "import requests \n",
    "pedido = requests.get('https://macowins-server.herokuapp.com/prendas/1')\n",
    "print(pedido.status_code) # pide el solo el nro del status_code q devolvia entre [] al principio\n",
    "\n",
    "me devuelve:\n",
    "ese nro de statud_code (ya sea 200 o 404, etc)->en este caso 200\n",
    "\n",
    "import requests #biblioteca que necesitamos para hacer pedidos\n",
    "pedido = requests.get('https://macowins-server.herokuapp.com/prendas?tipo=pantalon')#“get” es pedir un recuso() #ingreso URL de dato->en este caso me devuelve una lista de diccionarios con todas las prendas que el que dentro dentro del diccio en la clave 'tipo' es 'pantalon'->esto se da porq agrego luego de prendas \"?tipo=pantalon\"\n",
    "print(pedido.json())\n",
    "\n",
    "import requests\n",
    "r = requests.get('https://macowins-server.herokuapp.com/nueva-funcionalidad-que-a-veces-no-anda-bien')\n",
    "print(r.content) #content: me da el contenido del pedido \n",
    "\n",
    "import requests\n",
    "r = requests.get('https://macowins-server.herokuapp.com/prendas?talle=40&tipo=pantalon')\n",
    "print(r.json())\n",
    "\n",
    "import requests\n",
    "r = requests.get('https://macowins-server.herokuapp.com/ventas/?_page=3')#solo la pagina 3\n",
    "print(r.json())\n",
    "\n",
    "#lo que pongo ahora es un URI:\n",
    "import requests\n",
    "r = requests.get('protocolo://dominio:puerto/ruta#fragmento?parametro1=valor1&parametro2=valor2')\n",
    "print(r.json())\n",
    "\n",
    "#lo que pongo ahora es un URI:\n",
    "import requests\n",
    "r = requests.get('cerebro://recuerdos:3403/recientes#hoy?tema=http')\n",
    "print(r.json())\n",
    "\n",
    "import requests\n",
    "requests.get('http://localhost:300')\n",
    "raise ConnectionError(e, request=request)\n",
    "requests.exceptions.ConnectionError: HTTPConnectionPool(host='localhost', port=300): Max retries exceeded with url: / (Caused by NewConnectionError('<urllib3.connection.HTTPConnection object at 0x7fb528ea62e8>: Failed to establish a new connection: [Errno 111] Connection refused',))\n",
    "\n",
    "import requests\n",
    "requests.get('http://unSitioQueProbablementeNoExistaEnInternet')\n",
    "raise ConnectionError(e, request=request)\n",
    "requests.exceptions.ConnectionError: HTTPConnectionPool(host='unsitioqueprobablementenoexistaeninternet', port=80): Max retries exceeded with url: / (Caused by NewConnectionError('<urllib3.connection.HTTPConnection object at 0x7fb528e84a90>: Failed to establish a new connection: [Errno -2] Name or service not known',))\n",
    "\n",
    "import requests\n",
    "requests.get('http://google.com:8902',timeout=5)\n",
    "    raise ConnectionError(e, request=request)\n",
    "requests.exceptions.ConnectionError: HTTPConnectionPool(host='google.com', port=8902): Max retries exceeded with url: / (Caused by NewConnectionError('<urllib3.connection.HTTPConnection object at 0x7fb5297f3cc0>: Failed to establish a new connection: [Errno 101] Network is unreachable',))\n",
    "\n",
    "import requests\n",
    "data = {'id': 21}\n",
    "r = requests.post('https://macowins-server.herokuapp.com/prendas/', data=data) #crea una prenda con el id 21 y la agrega al pedido\n",
    "\n",
    "import requests #biblioteca que necesitamos para hacer pedidos\n",
    "pedido = requests.get('https://macowins-server.herokuapp.com/prendas')#“get” es pedir un recuso() #ingreso URL de dato->en este caso me devuelve una lista de diccionarios con todas las prendas\n",
    "print(pedido)\n",
    "print(pedido.json())\n",
    "\n",
    "import requests\n",
    "data =  { \"tipo\": \"chomba\", \"talle\": \"XS\" }\n",
    "r = requests.post('https://macowins-server.herokuapp.com/prendas', data=data) #agrega al pedido con diccios con id que no nos sirve\n",
    "print(r.json())\n",
    "\n",
    "import json, requests\n",
    "headers = {'Content-type': 'application/json', 'Accept': 'text/plain'}\n",
    "data =  { \"tipo\": \"chomba\", \"talle\": \"XS\" }\n",
    "r = requests.post('https://macowins-server.herokuapp.com/prendas', data=json.dumps(data), headers=headers)\n",
    "r.status_code\n",
    "201\n",
    "requests.get('https://macowins-server.herokuapp.com/prendas').json()\n",
    "\"\"\""
   ]
  },
  {
   "cell_type": "code",
   "execution_count": null,
   "metadata": {},
   "outputs": [],
   "source": []
  }
 ],
 "metadata": {
  "kernelspec": {
   "display_name": "Python 3.10.5 64-bit (windows store)",
   "language": "python",
   "name": "python3"
  },
  "language_info": {
   "codemirror_mode": {
    "name": "ipython",
    "version": 3
   },
   "file_extension": ".py",
   "mimetype": "text/x-python",
   "name": "python",
   "nbconvert_exporter": "python",
   "pygments_lexer": "ipython3",
   "version": "3.10.5"
  },
  "orig_nbformat": 4,
  "vscode": {
   "interpreter": {
    "hash": "2ac201e4867a94d094aaf9b779c6eab0241bbaaf8058adf891322ed7dde29adf"
   }
  }
 },
 "nbformat": 4,
 "nbformat_minor": 2
}
