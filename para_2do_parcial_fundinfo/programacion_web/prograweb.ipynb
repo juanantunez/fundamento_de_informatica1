{
 "cells": [
  {
   "cell_type": "code",
   "execution_count": 11,
   "metadata": {},
   "outputs": [
    {
     "data": {
      "application/vnd.jupyter.widget-view+json": {
       "model_id": "4e6de54c519b428b92eee3e326de7959",
       "version_major": 2,
       "version_minor": 0
      },
      "text/plain": [
       "VBox(children=(HTML(value=\"\\n    <h1 style='font-size:25px; color:black'>\\n        <b>Welcome to my first API!…"
      ]
     },
     "metadata": {},
     "output_type": "display_data"
    }
   ],
   "source": [
    "import ipywidgets as widgets\n",
    "from ipywidgets import HTML#ipywidget posee un constructor de HTML \n",
    "import ipywidgets as VBox##Vbox:permite crear contenedores o secciones en nuestro HTML y poder agregarle elementos\n",
    "from IPython.display import display #para que se vea mejor disposición en la pagina->usaremos parametro Layout del método VBox \n",
    "h1_main_section = widgets.HTML(\"\"\"\n",
    "    <h1 style='font-size:25px; color:black'>\n",
    "        <b>Welcome to my first API!</b>\n",
    "    </h1>\"\"\")#agregando un título de nuestra página \n",
    "\n",
    "main_text = widgets.HTML(\"\"\"\n",
    "    <p style='font-size:25px; color:black'>\n",
    "    This is an API built in Python \n",
    "    </p>\"\"\")#agregamos un texto de bienvenida\n",
    "\n",
    "main_section_vbox = widgets.VBox([h1_main_section, main_text])#poner dentro la lista de los elementos que desamos agrupar en dicha sección\n",
    "display(main_section_vbox) #al display le pasaremos un objeto con todas los estilos desados para nuestra sección    "
   ]
  },
  {
   "cell_type": "code",
   "execution_count": 12,
   "metadata": {},
   "outputs": [
    {
     "data": {
      "application/vnd.jupyter.widget-view+json": {
       "model_id": "bd92f541c617490c82017b41cfefe8af",
       "version_major": 2,
       "version_minor": 0
      },
      "text/plain": [
       "VBox(children=(HTML(value=\"\\n    <h1 style='font-size:25px; color:black'>\\n        <b>Welcome to my first API!…"
      ]
     },
     "metadata": {},
     "output_type": "display_data"
    }
   ],
   "source": [
    "#lo mismo que en el ejercicio anterior pero ahora con el texto de bienvenida en color rojo\n",
    "\n",
    "import ipywidgets as widgets\n",
    "from ipywidgets import HTML#ipywidget posee un constructor de HTML \n",
    "import ipywidgets as VBox##Vbox:permite crear contenedores o secciones en nuestro HTML y poder agregarle elementos\n",
    "from IPython.display import display #para que se vea mejor disposición en la pagina->usaremos parametro Layout del método VBox \n",
    "h1_main_section = widgets.HTML(\"\"\"\n",
    "    <h1 style='font-size:25px; color:black'>\n",
    "        <b>Welcome to my first API!</b>\n",
    "    </h1>\"\"\")#agregando un título de nuestra página \n",
    "\n",
    "main_text = widgets.HTML(\"\"\"\n",
    "    <p style='font-size:25px; color:red'>\n",
    "    This is an API built in Python \n",
    "    </p>\"\"\")#agregamos un texto de bienvenida (aux:le ponemos color rojo)\n",
    "\n",
    "main_section_vbox = widgets.VBox([h1_main_section, main_text])#poner dentro la lista de los elementos que desamos agrupar en dicha sección\n",
    "display(main_section_vbox) #al display le pasaremos un objeto con todas los estilos desados para nuestra sección    "
   ]
  },
  {
   "cell_type": "code",
   "execution_count": 14,
   "metadata": {},
   "outputs": [
    {
     "data": {
      "application/vnd.jupyter.widget-view+json": {
       "model_id": "ff47f1ac1dd84360b8ce7bb25e7d1954",
       "version_major": 2,
       "version_minor": 0
      },
      "text/plain": [
       "VBox(children=(HTML(value=\"\\n    <h1 style='font-size:25px; color:black'>\\n        <b>Welcome to my first API!…"
      ]
     },
     "metadata": {},
     "output_type": "display_data"
    }
   ],
   "source": [
    "import ipywidgets as widgets\n",
    "from ipywidgets import HTML#ipywidget posee un constructor de HTML \n",
    "import ipywidgets as VBox##Vbox:permite crear contenedores o secciones en nuestro HTML y poder agregarle elementos\n",
    "from IPython.display import display #display para mostrar la cajita en nuestra interfaz\n",
    "from ipywidgets import Layout#para que se vea mejor disposición en la pagina->usaremos parametro Layout del método VBox \n",
    "h1_main_section = widgets.HTML(\"\"\"\n",
    "    <h1 style='font-size:25px; color:black'>\n",
    "        <b>Welcome to my first API!</b>\n",
    "    </h1>\"\"\")#agregando un título de nuestra página \n",
    "\n",
    "main_text = widgets.HTML(\"\"\"\n",
    "    <p style='font-size:25px; color:red'>\n",
    "    This is an API built in Python \n",
    "    </p>\"\"\")#agregamos un texto de bienvenida (aux:le ponemos color rojo)\n",
    "\n",
    "layouts_intro = Layout(display='flex',\n",
    "                    flex_flow='flex-wrap',\n",
    "                    flex_direction='column',\n",
    "                    width='61%',\n",
    "                    margin='0px 10px 5px 20px',\n",
    "                    padding='2px 4% 0 1%',) #le pasaremos un objeto con todas los estilos desados para nuestra sección \n",
    "\n",
    "main_section_vbox = widgets.VBox([h1_main_section, main_text], layout=layouts_intro)\n",
    "\n",
    "#poner dentro la lista de los elementos que desamos agrupar en dicha sección\n",
    "display(main_section_vbox)    #Para mostrar la cajita en nuestra interfaz"
   ]
  },
  {
   "cell_type": "code",
   "execution_count": null,
   "metadata": {},
   "outputs": [],
   "source": []
  }
 ],
 "metadata": {
  "interpreter": {
   "hash": "2ac201e4867a94d094aaf9b779c6eab0241bbaaf8058adf891322ed7dde29adf"
  },
  "kernelspec": {
   "display_name": "Python 3.10.5 64-bit (windows store)",
   "language": "python",
   "name": "python3"
  },
  "language_info": {
   "codemirror_mode": {
    "name": "ipython",
    "version": 3
   },
   "file_extension": ".py",
   "mimetype": "text/x-python",
   "name": "python",
   "nbconvert_exporter": "python",
   "pygments_lexer": "ipython3",
   "version": "3.10.5"
  },
  "orig_nbformat": 4
 },
 "nbformat": 4,
 "nbformat_minor": 2
}
