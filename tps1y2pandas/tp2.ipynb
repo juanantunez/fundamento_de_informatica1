{
 "cells": [
  {
   "cell_type": "markdown",
   "metadata": {},
   "source": [
    "Ejercicio 1\n",
    "Escribí un programa que dado un diccionario cuyos valores sean listas de números cree un DataFrame y luego seleccione e imprima las filas del DataFrame basado en un valor de una columna.\n",
    "\n",
    "Diccionario de muestra: {1: [1, 4, 3, 4, 5], 2: [4, 5, 6, 7, 8], 3: [7, 8, 9, 0, 1]}, y el valor es 4 en la columna 1."
   ]
  },
  {
   "cell_type": "code",
   "execution_count": 3,
   "metadata": {},
   "outputs": [
    {
     "name": "stdout",
     "output_type": "stream",
     "text": [
      "   1  2  3\n",
      "1  4  5  8\n",
      "3  4  7  0\n"
     ]
    }
   ],
   "source": [
    "#dado un diccio cuyas claves son nros y valores son listas de nros, devuelve un df que imprima valores de todas las columnas, cuyas filas sean =4 en la columna 1\n",
    "\n",
    "\n",
    "import pandas as pd\n",
    "dato={1: [1, 4, 3, 4, 5], 2: [4, 5, 6, 7, 8], 3: [7, 8, 9, 0, 1]}\n",
    "df=pd.DataFrame(dato)\n",
    "#print(df)\n",
    "print(df.loc[df[1]==4]) #si en la columna 1(clave) hay un valor=4, devuelve esa fila(es decir valres de columna 2 y 3 que esten en esa misma posicion)"
   ]
  },
  {
   "cell_type": "markdown",
   "metadata": {},
   "source": [
    "Ejercicio 2\n",
    "Escribí un programa que guarde en una lista una columna de un DataFrame."
   ]
  },
  {
   "cell_type": "code",
   "execution_count": 6,
   "metadata": {},
   "outputs": [
    {
     "name": "stdout",
     "output_type": "stream",
     "text": [
      "[1, 4, 3, 4, 5]\n"
     ]
    }
   ],
   "source": [
    "#guardar en una lista, la columna 1 del df\n",
    "import pandas as pd\n",
    "dato={1: [1, 4, 3, 4, 5], 2: [4, 5, 6, 7, 8], 3: [7, 8, 9, 0, 1]}\n",
    "df=pd.DataFrame(dato)\n",
    "print(df[1].tolist())"
   ]
  },
  {
   "cell_type": "markdown",
   "metadata": {},
   "source": [
    "Ejercicio 3 #a chequear\n",
    "Realizá un programa que agregue datos a un DataFrame vacío."
   ]
  },
  {
   "cell_type": "code",
   "execution_count": 10,
   "metadata": {},
   "outputs": [
    {
     "name": "stdout",
     "output_type": "stream",
     "text": [
      "   0  1  2  3  4\n",
      "0  1  2  3  4  5\n"
     ]
    },
    {
     "name": "stderr",
     "output_type": "stream",
     "text": [
      "C:\\Users\\notebook\\AppData\\Local\\Temp\\ipykernel_2804\\2895474153.py:4: FutureWarning: The frame.append method is deprecated and will be removed from pandas in a future version. Use pandas.concat instead.\n",
      "  df=df_vacio.append(s1, ignore_index=True)\n"
     ]
    }
   ],
   "source": [
    "import pandas as pd\n",
    "df_vacio=pd.DataFrame()\n",
    "s1=pd.Series([1,2,3,4,5])\n",
    "df=df_vacio.append(s1, ignore_index=True)\n",
    "print(df)"
   ]
  },
  {
   "cell_type": "markdown",
   "metadata": {},
   "source": [
    "Ejercicio 4\n",
    "Escribí un programa que elimine las primeras n filas de un DataFrame. Pista: el DataFrame original no debe modificarse."
   ]
  },
  {
   "cell_type": "code",
   "execution_count": 15,
   "metadata": {},
   "outputs": [
    {
     "name": "stdout",
     "output_type": "stream",
     "text": [
      "   1  2  3\n",
      "0  1  4  7\n",
      "1  4  5  8\n",
      "2  3  6  9\n",
      "3  4  7  0\n",
      "4  5  8  1\n",
      "\n",
      "ahora si\n",
      "   1  2  3\n",
      "2  3  6  9\n",
      "3  4  7  0\n",
      "4  5  8  1\n"
     ]
    }
   ],
   "source": [
    "#para eliminar las 1ras 2 filas del df\n",
    "import pandas as pd\n",
    "dato={1: [1, 4, 3, 4, 5], 2: [4, 5, 6, 7, 8], 3: [7, 8, 9, 0, 1]}\n",
    "df=pd.DataFrame(dato)\n",
    "df1=df.loc[2:]\n",
    "print(df)\n",
    "print(\"\\nahora si\")\n",
    "print(df1)\n"
   ]
  },
  {
   "cell_type": "markdown",
   "metadata": {},
   "source": [
    "Ejercicio 5\n",
    "Realizá un programa que verifique si una columna dada se encuentra presente en un DataFrame."
   ]
  },
  {
   "cell_type": "code",
   "execution_count": 19,
   "metadata": {},
   "outputs": [
    {
     "name": "stdout",
     "output_type": "stream",
     "text": [
      "Int64Index([1, 5, 3], dtype='int64')\n",
      "Int64Index([1, 5, 6], dtype='int64')\n",
      "[ True  True False]\n"
     ]
    }
   ],
   "source": [
    "import pandas as pd\n",
    "dato={1: [1, 4, 3, 4, 5], 5: [4, 5, 6, 7, 8], 3: [7, 8, 9, 0, 1]}\n",
    "dato2={1: [1, 1, 1, 1, 1], 5: [5, 5, 5, 5, 5], 6: [6, 6, 6, 6, 6]}\n",
    "df=pd.DataFrame(dato)\n",
    "df2=pd.DataFrame(dato2)\n",
    "\n",
    "columnas_df=df.columns\n",
    "columnas_df2=df2.columns\n",
    "#print(columnas_df)\n",
    "#print(columnas_df2)\n",
    "\n",
    "print(columnas_df==columnas_df2)"
   ]
  }
 ],
 "metadata": {
  "interpreter": {
   "hash": "2ac201e4867a94d094aaf9b779c6eab0241bbaaf8058adf891322ed7dde29adf"
  },
  "kernelspec": {
   "display_name": "Python 3.10.4 64-bit (windows store)",
   "language": "python",
   "name": "python3"
  },
  "language_info": {
   "codemirror_mode": {
    "name": "ipython",
    "version": 3
   },
   "file_extension": ".py",
   "mimetype": "text/x-python",
   "name": "python",
   "nbconvert_exporter": "python",
   "pygments_lexer": "ipython3",
   "version": "3.10.4"
  },
  "orig_nbformat": 4
 },
 "nbformat": 4,
 "nbformat_minor": 2
}
