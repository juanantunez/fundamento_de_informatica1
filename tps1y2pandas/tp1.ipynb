{
 "cells": [
  {
   "cell_type": "markdown",
   "metadata": {},
   "source": [
    "ej 1 \n",
    "Escribí un programa que sume, reste, multiplique y divida dos series de números de Pandas.\n",
    "\n",
    "Series de muestra:\n",
    "\n",
    "[3, 7, 12, 15, 21], [1, 4, 10, 14, 19]"
   ]
  },
  {
   "cell_type": "code",
   "execution_count": 3,
   "metadata": {},
   "outputs": [
    {
     "name": "stdout",
     "output_type": "stream",
     "text": [
      "suma:\n",
      "0     4\n",
      "1    11\n",
      "2    22\n",
      "3    29\n",
      "4    40\n",
      "dtype: int64\n",
      "\n",
      "resta:\n",
      "0    2\n",
      "1    3\n",
      "2    2\n",
      "3    1\n",
      "4    2\n",
      "dtype: int64\n",
      "\n",
      "multiplicacion:\n",
      "0      3\n",
      "1     28\n",
      "2    120\n",
      "3    210\n",
      "4    399\n",
      "dtype: int64\n",
      "\n",
      "division:\n",
      "0    3.000000\n",
      "1    1.750000\n",
      "2    1.200000\n",
      "3    1.071429\n",
      "4    1.105263\n",
      "dtype: float64\n"
     ]
    }
   ],
   "source": [
    "import pandas as pd\n",
    "\n",
    "serie1=[3, 7, 12, 15, 21]#lista1(la que me dan como dato)\n",
    "ds1=pd.Series(serie1) #Debo transformar lista a serie de pandas\n",
    "serie2=[1, 4, 10, 14, 19]#hago mismo que con lista1\n",
    "ds2=pd.Series(serie2) #hago \n",
    "\n",
    "print(\"suma:\")\n",
    "print(ds1+ds2) \n",
    "print(\"\\nresta:\")\n",
    "print(ds1-ds2)\n",
    "print(\"\\nmultiplicacion:\")\n",
    "print(ds1*ds2) \n",
    "print(\"\\ndivision:\")\n",
    "print(ds1/ds2)  \n",
    "\n",
    "#me devuelve una nueva serie(a la izquierda columna especifica posicion y a la derecha columna muestra la operacion en cada posicion)\n",
    "#que hará la operacion entre las 1eras 2 series, pero por posicion(ej: suma posicion 0 de serie 1 con posicion 0 de serie 2 y asi para cada posicion de la nueva serie)\n",
    "\n",
    "\n"
   ]
  },
  {
   "cell_type": "markdown",
   "metadata": {},
   "source": [
    "ej 2\n",
    "Realizá un programa que compare (si son mayores, menores o iguales) los elementos de dos series de números de Pandas.\n",
    "\n",
    "Series de muestra:\n",
    "\n",
    "[3, 7, 9, 14, 25], [1, 7, 10, 16, 19]"
   ]
  },
  {
   "cell_type": "code",
   "execution_count": 5,
   "metadata": {},
   "outputs": [
    {
     "name": "stdout",
     "output_type": "stream",
     "text": [
      "serie 1 mayor a serie 2\n",
      "0    True\n",
      "1    True\n",
      "2    True\n",
      "3    True\n",
      "4    True\n",
      "dtype: bool\n",
      "serie 1 menor a serie 2\n",
      "0    False\n",
      "1    False\n",
      "2    False\n",
      "3    False\n",
      "4    False\n",
      "dtype: bool\n",
      "serie 1 igual serie 2\n",
      "0    False\n",
      "1    False\n",
      "2    False\n",
      "3    False\n",
      "4    False\n",
      "dtype: bool\n"
     ]
    }
   ],
   "source": [
    "import pandas as pd\n",
    "\n",
    "serie1=[3, 7, 12, 15, 21]#lista1(la que me dan como dato)\n",
    "ds1=pd.Series(serie1) #Debo transformar lista a serie de pandas\n",
    "serie2=[1, 4, 10, 14, 19]#hago mismo que con lista1\n",
    "ds2=pd.Series(serie2)\n",
    "\n",
    "print(\"serie 1 mayor a serie 2\")\n",
    "print(ds1>ds2)\n",
    "\n",
    "print(\"serie 1 menor a serie 2\")\n",
    "print(ds1<ds2)\n",
    "\n",
    "print(\"serie 1 igual serie 2\")\n",
    "print(ds1==ds2)\n",
    "\n",
    "#para tema de igualdades y desigualdades me tendra que devolver booleano"
   ]
  },
  {
   "cell_type": "markdown",
   "metadata": {},
   "source": [
    "ej 3\n",
    "Escribí un programa para convertir un diccionario a una serie de Pandas.\n",
    "\n",
    "Diccionario de muestra:\n",
    "\n",
    "dict1 = {\"a\": 10, \"b\": 20, \"c\": 30, \"d\": 40, \"e\": 50}"
   ]
  },
  {
   "cell_type": "code",
   "execution_count": 8,
   "metadata": {},
   "outputs": [
    {
     "name": "stdout",
     "output_type": "stream",
     "text": [
      "a    10\n",
      "b    20\n",
      "c    30\n",
      "d    40\n",
      "e    50\n",
      "dtype: int64\n"
     ]
    }
   ],
   "source": [
    "import pandas as pd\n",
    "dict1 = {\"a\": 10, \"b\": 20, \"c\": 30, \"d\": 40, \"e\": 50}\n",
    "nueva_serie=pd.Series(dict1)\n",
    "print(nueva_serie)\n",
    "#las claves de los diccionarios seran los indices( lo que en el ej anterior eran las posiciones)\n"
   ]
  },
  {
   "cell_type": "markdown",
   "metadata": {},
   "source": [
    "ej 4\n",
    "Escribí un programa que dado un diccionario cuyos valores son listas de números, cree otro diccionario con las mismas claves, pero donde los valores sean una lista de números donde se potencia un número por el siguiente, tomándolos de a pares. Para ser más claros miremos este ejemplo donde si un diccionario es:\n",
    "\n",
    "dict1 = {\"a\": [1,3,5,2], \"b\": [4,2,3,3]}\n",
    "\n",
    "el diccionario resultante debería ser:\n",
    "\n",
    "dict2 = {\"a\": [1, 25], \"b\": [16, 27]}\n",
    "Esto se obtiene al hacer 1 al cubo (el primer par de la lista \"a\"), y 5 al cuadrado, por un lado; y 4 al cuadrado y 3 al cubo por el otro. Se considera que la cantidad de elementos en las listas siempre es par, por lo que no habría que hacer ninguna comprobación al respecto. Se puede usar el dict1 como diccionario de muestra, pero considerá que la lista puede ser más grande. Por último hay que convertir este último diccionario en un DataFrame de Pandas."
   ]
  },
  {
   "cell_type": "code",
   "execution_count": 11,
   "metadata": {},
   "outputs": [
    {
     "name": "stdout",
     "output_type": "stream",
     "text": [
      "{'a': [1, 25], 'b': [16, 27]}\n",
      "    a   b\n",
      "0   1  16\n",
      "1  25  27\n"
     ]
    }
   ],
   "source": [
    "#ej 4 tp1 aux: interpreto enunciado\n",
    "#Dado diccio q sus valores son listas de nros, crear otro diccio con misma claves pero que valores sea una lista de nros donde se potencia un nro por el siguiente, tomandolos de a pares\n",
    "#Lista1= valor 1er posicion potenciado a valor de 2da posicion \n",
    "#Valor de 3er posicion potenciado a valor 4ta posicion\n",
    "#Lista 2 #mismo que lista1\n",
    "\n",
    "#ahora si resuelvo:\n",
    "import pandas as pd\n",
    "dict1 = {\"a\": [1,3,5,2], \"b\": [4,2,3,3]}#creo diccio 1 con las listas a y b\n",
    "dict2={}#creo otro diccio vacio donde voy a tener los rstdos finales\n",
    "\n",
    "for clave, valor in dict1.items(): #recorro dict1 y por cada clave y valor de dict1(items() devuelve una lista-> [(clave1, valor1), [clave2, valor2],...]) \n",
    "    pares=[] #aca voy a ir agregandolas posiciones pares \n",
    "    impares=[] #aca voy a ir agregando las posiciones impares \n",
    "    potencia=[] #aca voy a ir agregando los rstdos de las potencias\n",
    "    for i in range(len(valor)): #recorro la cantidad de elementos de la lista de la clave(ambas listas misma longitud)\n",
    "        if i%2==0: #si posicion es par ->agrego a lista de pares\n",
    "            pares.append(valor[i])\n",
    "        else: #de lo contrario ->agrego a lista de impares \n",
    "            impares.append(valor[i])    \n",
    "    for i in range(len(pares)): #recorro longitud de lista de pares (misma longitud que lista de impares)\n",
    "        potencia.append(pares[i]**impares[i]) #agrego a lista de potencias, el rstdo de la potencia de cada par con su respectivo impar\n",
    "        dict2[clave]=potencia # agrego a dic2, la clave y la lista de potencias\n",
    "print(dict2) #esto me devuelve un diccionario con las claves y valores de las potencias \n",
    "newdf=pd.DataFrame(dict2) #transformo dic2 en df y lo imprimo\n",
    "print(newdf)\n",
    "\n",
    "\n",
    "\n"
   ]
  },
  {
   "cell_type": "markdown",
   "metadata": {},
   "source": [
    "ej 5\n",
    "Realizá un programa para crear y mostrar un DataFrame a partir de un diccionario y de unas etiquetas (o labels).\n",
    "\n",
    "Muestra:\n",
    "\n",
    "datos_ejemplo = {\"nombre\": [\"Agustina\", \"Diana\", \"Karen\", \"Julián\", \"Emilio\", \"Miguel\", \"Mateo\", \"Laura\", \"Jorge\", \"Lucas\"], \"puntaje\": [12.5, 9, 16.5, 13, 9, 20, 14.5, 10, 8, 19], \"intentos\": [1, 3, 2, 3, 2, 3, 1, 1, 2, 1], \"califica\": [1, 0, 1, 0, 0, 1, 1, 0, 0, 1]}\n",
    "\n",
    "labels = [\"a\", \"b\", \"c\", \"d\", \"e\", \"f\", \"g\", \"h\", \"i\", \"j\"]"
   ]
  },
  {
   "cell_type": "code",
   "execution_count": 1,
   "metadata": {},
   "outputs": [
    {
     "name": "stdout",
     "output_type": "stream",
     "text": [
      "     nombre  puntaje  intentos  califica\n",
      "a  Agustina     12.5         1         1\n",
      "b     Diana      9.0         3         0\n",
      "c     Karen     16.5         2         1\n",
      "d    Julián     13.0         3         0\n",
      "e    Emilio      9.0         2         0\n",
      "f    Miguel     20.0         3         1\n",
      "g     Mateo     14.5         1         1\n",
      "h     Laura     10.0         1         0\n",
      "i     Jorge      8.0         2         0\n",
      "j     Lucas     19.0         1         1\n"
     ]
    }
   ],
   "source": [
    "#Nos dice que creemos un df a partir de diccio y etiquetas(labels) que nos dan de dato \n",
    "import pandas as pd\n",
    "datos_ejemplo = {\"nombre\": [\"Agustina\", \"Diana\", \"Karen\", \"Julián\", \"Emilio\", \"Miguel\", \"Mateo\", \"Laura\", \"Jorge\", \"Lucas\"], \"puntaje\": [12.5, 9, 16.5, 13, 9, 20, 14.5, 10, 8, 19], \"intentos\": [1, 3, 2, 3, 2, 3, 1, 1, 2, 1], \"califica\": [1, 0, 1, 0, 0, 1, 1, 0, 0, 1]}\n",
    "labels = [\"a\", \"b\", \"c\", \"d\", \"e\", \"f\", \"g\", \"h\", \"i\", \"j\"] \n",
    "df=pd.DataFrame(datos_ejemplo, index=labels)\n",
    "print(df)\n",
    "#aux:etiquetas son el indice (columna que por default pone las posiciones) q queremos(puede ser un rango, una lista de nombres, etc\n"
   ]
  },
  {
   "cell_type": "markdown",
   "metadata": {},
   "source": [
    "ej 6\n",
    "Escribí un programa que muestre un resumen de la información básica de un DataFrame y sus datos.\n",
    "\n",
    "Muestra:\n",
    "\n",
    "datos_ejemplo = {\"nombre\": [\"Agustina\", \"Diana\", \"Karen\", \"Julián\", \"Emilio\", \"Miguel\", \"Mateo\", \"Laura\", \"Jorge\", \"Lucas\"], \"puntaje\": [12.5, 9, 16.5, 13, 9, 20, 14.5, 10, 8, 19], \"intentos\": [1, 3, 2, 3, 2, 3, 1, 1, 2, 1], \"califica\": [1, 0, 1, 0, 0, 1, 1, 0, 0, 1]}\n",
    "\n",
    "labels = [\"a\", \"b\", \"c\", \"d\", \"e\", \"f\", \"g\", \"h\", \"i\", \"j\"]"
   ]
  },
  {
   "cell_type": "code",
   "execution_count": 2,
   "metadata": {},
   "outputs": [
    {
     "name": "stdout",
     "output_type": "stream",
     "text": [
      "<class 'pandas.core.frame.DataFrame'>\n",
      "Index: 10 entries, a to j\n",
      "Data columns (total 4 columns):\n",
      " #   Column    Non-Null Count  Dtype  \n",
      "---  ------    --------------  -----  \n",
      " 0   nombre    10 non-null     object \n",
      " 1   puntaje   10 non-null     float64\n",
      " 2   intentos  10 non-null     int64  \n",
      " 3   califica  10 non-null     int64  \n",
      "dtypes: float64(1), int64(2), object(1)\n",
      "memory usage: 400.0+ bytes\n",
      "None\n"
     ]
    }
   ],
   "source": [
    "import pandas as pd\n",
    "datos_ejemplo = {\"nombre\": [\"Agustina\", \"Diana\", \"Karen\", \"Julián\", \"Emilio\", \"Miguel\", \"Mateo\", \"Laura\", \"Jorge\", \"Lucas\"], \"puntaje\": [12.5, 9, 16.5, 13, 9, 20, 14.5, 10, 8, 19], \"intentos\": [1, 3, 2, 3, 2, 3, 1, 1, 2, 1], \"califica\": [1, 0, 1, 0, 0, 1, 1, 0, 0, 1]}\n",
    "labels = [\"a\", \"b\", \"c\", \"d\", \"e\", \"f\", \"g\", \"h\", \"i\", \"j\"] \n",
    "df=pd.DataFrame(datos_ejemplo, index=labels)\n",
    "print(df.info())"
   ]
  },
  {
   "cell_type": "markdown",
   "metadata": {},
   "source": [
    "ej 7\n",
    "Escribí un programa que obtenga las 3 primeras filas de un DataFrame dado.\n",
    "\n",
    "Muestra:\n",
    "\n",
    "datos_ejemplo = {\"nombre\": [\"Agustina\", \"Diana\", \"Karen\", \"Julián\", \"Emilio\", \"Miguel\", \"Mateo\", \"Laura\", \"Jorge\", \"Lucas\"], \"puntaje\": [12.5, 9, 16.5, 13, 9, 20, 14.5, 10, 8, 19], \"intentos\": [1, 3, 2, 3, 2, 3, 1, 1, 2, 1], \"califica\": [1, 0, 1, 0, 0, 1, 1, 0, 0, 1]}\n",
    "\n",
    "labels = [\"a\", \"b\", \"c\", \"d\", \"e\", \"f\", \"g\", \"h\", \"i\", \"j\"]"
   ]
  },
  {
   "cell_type": "code",
   "execution_count": 3,
   "metadata": {},
   "outputs": [
    {
     "name": "stdout",
     "output_type": "stream",
     "text": [
      "     nombre  puntaje  intentos  califica\n",
      "a  Agustina     12.5         1         1\n",
      "b     Diana      9.0         3         0\n",
      "c     Karen     16.5         2         1\n"
     ]
    }
   ],
   "source": [
    "import pandas as pd\n",
    "datos_ejemplo = {\"nombre\": [\"Agustina\", \"Diana\", \"Karen\", \"Julián\", \"Emilio\", \"Miguel\", \"Mateo\", \"Laura\", \"Jorge\", \"Lucas\"], \"puntaje\": [12.5, 9, 16.5, 13, 9, 20, 14.5, 10, 8, 19], \"intentos\": [1, 3, 2, 3, 2, 3, 1, 1, 2, 1], \"califica\": [1, 0, 1, 0, 0, 1, 1, 0, 0, 1]}\n",
    "labels = [\"a\", \"b\", \"c\", \"d\", \"e\", \"f\", \"g\", \"h\", \"i\", \"j\"] \n",
    "df=pd.DataFrame(datos_ejemplo, index=labels)\n",
    "print(df.iloc[:3])#iloc  muestre del ppio hasta fila 3 (es decir:fila 0, 1 y 2)"
   ]
  },
  {
   "cell_type": "markdown",
   "metadata": {},
   "source": [
    "ej 8\n",
    "Realizá un programa que seleccione e impirma las columnas \"nombre\" y \"puntaje\" del DataFrama anterior."
   ]
  },
  {
   "cell_type": "code",
   "execution_count": 6,
   "metadata": {},
   "outputs": [
    {
     "name": "stdout",
     "output_type": "stream",
     "text": [
      "     nombre  puntaje\n",
      "a  Agustina     12.5\n",
      "b     Diana      9.0\n",
      "c     Karen     16.5\n",
      "d    Julián     13.0\n",
      "e    Emilio      9.0\n",
      "f    Miguel     20.0\n",
      "g     Mateo     14.5\n",
      "h     Laura     10.0\n",
      "i     Jorge      8.0\n",
      "j     Lucas     19.0\n"
     ]
    }
   ],
   "source": [
    "import pandas as pd\n",
    "datos_ejemplo = {\"nombre\": [\"Agustina\", \"Diana\", \"Karen\", \"Julián\", \"Emilio\", \"Miguel\", \"Mateo\", \"Laura\", \"Jorge\", \"Lucas\"], \"puntaje\": [12.5, 9, 16.5, 13, 9, 20, 14.5, 10, 8, 19], \"intentos\": [1, 3, 2, 3, 2, 3, 1, 1, 2, 1], \"califica\": [1, 0, 1, 0, 0, 1, 1, 0, 0, 1]}\n",
    "labels = [\"a\", \"b\", \"c\", \"d\", \"e\", \"f\", \"g\", \"h\", \"i\", \"j\"] \n",
    "df=pd.DataFrame(datos_ejemplo, index=labels)\n",
    "print(df[[\"nombre\", \"puntaje\"]]) #Al df le pasamos una lista de las columnas que queremos que imprima, se las pasamos entre dobles corchetes ([[]]), dado que lo que le paso de por si para mostrar columna va entre corchetes y le sumo otros corchetes xq le paso una lista"
   ]
  },
  {
   "cell_type": "markdown",
   "metadata": {},
   "source": [
    "ej 9\n",
    "Escribí un programa que dado el DataFrame anterior imprima los nombres en mayúscula y la longitud de los mismos en una nueva tabla."
   ]
  },
  {
   "cell_type": "code",
   "execution_count": 12,
   "metadata": {},
   "outputs": [
    {
     "name": "stdout",
     "output_type": "stream",
     "text": [
      "          0  1\n",
      "0  AGUSTINA  8\n",
      "1     DIANA  5\n",
      "2     KAREN  5\n",
      "3    JULIÁN  6\n",
      "4    EMILIO  6\n",
      "5    MIGUEL  6\n",
      "6     MATEO  5\n",
      "7     LAURA  5\n",
      "8     JORGE  5\n",
      "9     LUCAS  5\n"
     ]
    }
   ],
   "source": [
    "#enunciado: df que imprima en una nueva tabla los nombres en mayuscula y la longitud de estos nombres-> (dato:diccionario y etiquetas)\n",
    "\n",
    "import pandas as pd\n",
    "datos_ejemplo = {\"nombre\": [\"Agustina\", \"Diana\", \"Karen\", \"Julián\", \"Emilio\", \"Miguel\", \"Mateo\", \"Laura\", \"Jorge\", \"Lucas\"], \"puntaje\": [12.5, 9, 16.5, 13, 9, 20, 14.5, 10, 8, 19], \"intentos\": [1, 3, 2, 3, 2, 3, 1, 1, 2, 1], \"califica\": [1, 0, 1, 0, 0, 1, 1, 0, 0, 1]}\n",
    "labels = [\"a\", \"b\", \"c\", \"d\", \"e\", \"f\", \"g\", \"h\", \"i\", \"j\"] \n",
    "df=pd.DataFrame(datos_ejemplo, index=labels)\n",
    "new_dict={}#Creamos un diccio vacio donde iremos guardando los datos para crear el nuevo df con las longitudes\n",
    "for cada_nombre in df[\"nombre\"]: #Vayamos recorriendo la columna \"nombre\" #cada nombre del df[nombre de la columna]\n",
    "    new_dict[cada_nombre.upper()]=len(cada_nombre) \n",
    "df2=pd.DataFrame(new_dict.items())  #new_dict.items() devuelve una lista a partir del new_dict-> [(clave1, valor1), [clave2, valor2],...])->#transformo esa lista en un df                                               \n",
    "print(df2)                          \n"
   ]
  }
 ],
 "metadata": {
  "interpreter": {
   "hash": "2ac201e4867a94d094aaf9b779c6eab0241bbaaf8058adf891322ed7dde29adf"
  },
  "kernelspec": {
   "display_name": "Python 3.10.4 64-bit (windows store)",
   "language": "python",
   "name": "python3"
  },
  "language_info": {
   "codemirror_mode": {
    "name": "ipython",
    "version": 3
   },
   "file_extension": ".py",
   "mimetype": "text/x-python",
   "name": "python",
   "nbconvert_exporter": "python",
   "pygments_lexer": "ipython3",
   "version": "3.10.4"
  },
  "orig_nbformat": 4
 },
 "nbformat": 4,
 "nbformat_minor": 2
}
